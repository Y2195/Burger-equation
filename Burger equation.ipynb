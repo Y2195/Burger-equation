{
 "cells": [
  {
   "cell_type": "markdown",
   "id": "8ed9f9cd",
   "metadata": {},
   "source": [
    "# Numerical solution of Burger's equation"
   ]
  },
  {
   "cell_type": "code",
   "execution_count": 1,
   "id": "9c20a955",
   "metadata": {},
   "outputs": [],
   "source": [
    "import matplotlib.pyplot as plt\n",
    "import numpy as np\n",
    "\n",
    "from matplotlib import rc\n",
    "rc('font', family='serif')\n",
    "rc('lines', linewidth=1.5)\n",
    "rc('font', size=16)\n",
    "plt.rc('legend',**{'fontsize':11})"
   ]
  },
  {
   "cell_type": "code",
   "execution_count": 2,
   "id": "37cc41f6",
   "metadata": {},
   "outputs": [],
   "source": [
    "scheme = 1                        # Choose your scheme: 1 (upwind), 2 (corrected upwind)\n",
    "Nx = 101;                         # Number of grid points\n",
    "xmax = 2.;                        # Domain limit to the right\n",
    "xmin = -2.;                       # Domain limit to the left\n",
    "dx = (xmax-xmin)/(Nx-1)           # Mesh size\n",
    "x = np.arange(xmin,xmax,dx)       # Discretized mesh\n",
    "\n",
    "dt = 0.04                         # Time step\n",
    "t = 0.                            # Initial time\n",
    "t_end = 2.                        # Final time"
   ]
  },
  {
   "cell_type": "code",
   "execution_count": 3,
   "id": "4cc03812",
   "metadata": {},
   "outputs": [],
   "source": [
    "Uex0 = (x<-1)*0+(x<0)*(x>-1)*(1+x)+(x<1)*(x>0)*(1-x)+(x>1)*0   # Exact at t = 0\n",
    "Uex1 = (x<-1)*0+(x<1)*(x>-1)*(0.5+0.5*x)+(x<1)*(x>1)*1+(x>1)*0 # Exact at t = 1\n",
    "Uex2 = (x<-1)*0+(x<1.5)*(x>-1)*(0.32+0.32*x)+(x>1)*0           # Exact at t = 2\n",
    "\n",
    "U = Uex0                          # Initial solution"
   ]
  },
  {
   "cell_type": "code",
   "execution_count": 4,
   "id": "dc8489e9",
   "metadata": {},
   "outputs": [],
   "source": [
    "# Temporal lop\n",
    "while (t <= t_end):\n",
    "\n",
    "    dt = min(dt,dx / max(abs(U)))\n",
    "    sigma = dt/dx\n",
    "    t = t+dt\n",
    "  \n",
    "  # Solve equation using upwind scheme\n",
    "    if (scheme == 1):\n",
    "        Un = U\n",
    "        Um = np.roll(Un,1)\n",
    "        Up = np.roll(Un,-1)\n",
    "        U = Un - 0.5 * sigma * (Un + abs(Un)) * (Un-Um) - 0.5 * sigma * (Un - abs(Un)) * (Up - Un)\n",
    "\n",
    "          \n",
    "  # Solve equation using the corrected upwind scheme\n",
    "    if (scheme == 2):\n",
    "        Un = U;\n",
    "        Um = np.roll(Un,1)\n",
    "        Up = np.roll(Un,-1)\n",
    "        a_plus = 0.5 * (Up + Un)\n",
    "        a_minus = 0.5 * (Un + Um)\n",
    "        U = Un - 0.5 * sigma * (a_minus + abs(a_minus)) * (Un-Um) - 0.5 * sigma * (a_plus - abs(a_plus)) * (Up-Un)"
   ]
  },
  {
   "cell_type": "code",
   "execution_count": 5,
   "id": "b1891b42",
   "metadata": {},
   "outputs": [
    {
     "data": {
      "image/png": "[encoded data removed]",
      "text/plain": [
       "<Figure size 432x288 with 1 Axes>"
      ]
     },
     "metadata": {
      "needs_background": "light"
     },
     "output_type": "display_data"
    }
   ],
   "source": [
    "if (t==dt): \n",
    "    fig1, ax1 = plt.subplots(figsize=(5.5,4))\n",
    "    plt.clf()\n",
    "    plt.plot(x,U, color='k')\n",
    "if (abs(t - 1) < 1e-9): \n",
    "    Unum1 = U;\n",
    "    plt.plot(x,Unum1, color='C0')\n",
    "if (t>1): \n",
    "    Unum1 = U;\n",
    "    plt.plot(x,Unum1, color='C0')\n",
    "if (abs(t - 2) < 1e-9): \n",
    "    Unum1 = U ; \n",
    "    plt.plot(x,Unum1, color='C2')"
   ]
  },
  {
   "cell_type": "code",
   "execution_count": 6,
   "id": "aad58aaa",
   "metadata": {},
   "outputs": [
    {
     "data": {
      "image/png": "[encoded data removed]",
      "text/plain": [
       "<Figure size 432x288 with 1 Axes>"
      ]
     },
     "metadata": {
      "needs_background": "light"
     },
     "output_type": "display_data"
    }
   ],
   "source": [
    "plt.scatter(x,Uex0, marker='o', facecolors='white', color='k')\n",
    "plt.scatter(x,Uex1, marker='o', facecolors='white', color='C0')\n",
    "plt.scatter(x,Uex2, marker='o', facecolors='white', color='C1')\n",
    "plt.axis([xmin, xmax, 0, 1.25])\n",
    "plt.title('t='+str(round(t,3)),fontsize=16)\n",
    "plt.xlabel('x',fontsize=18)\n",
    "plt.ylabel('u',fontsize=18)\n",
    "plt.subplots_adjust(left=0.2)\n",
    "plt.subplots_adjust(bottom=0.18)\n",
    "plt.draw()\n",
    "plt.show()"
   ]
  },
  {
   "cell_type": "code",
   "execution_count": null,
   "id": "03bd978c",
   "metadata": {},
   "outputs": [],
   "source": []
  }
 ],
 "metadata": {
  "kernelspec": {
   "display_name": "Python 3",
   "language": "python",
   "name": "python3"
  },
  "language_info": {
   "codemirror_mode": {
    "name": "ipython",
    "version": 3
   },
   "file_extension": ".py",
   "mimetype": "text/x-python",
   "name": "python",
   "nbconvert_exporter": "python",
   "pygments_lexer": "ipython3",
   "version": "3.8.8"
  }
 },
 "nbformat": 4,
 "nbformat_minor": 5
}
